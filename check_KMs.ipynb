{
 "metadata": {
  "language_info": {
   "codemirror_mode": {
    "name": "ipython",
    "version": 3
   },
   "file_extension": ".py",
   "mimetype": "text/x-python",
   "name": "python",
   "nbconvert_exporter": "python",
   "pygments_lexer": "ipython3",
   "version": "3.6.9"
  },
  "orig_nbformat": 4,
  "kernelspec": {
   "name": "car_racing_retry",
   "display_name": "Python 3.6.9 64-bit ('car_racing_retry': venv)"
  },
  "interpreter": {
   "hash": "767d51c1340bd893661ea55ea3124f6de3c7a262a8b4abca0554b478b1e2ff90"
  }
 },
 "nbformat": 4,
 "nbformat_minor": 2,
 "cells": [
  {
   "cell_type": "code",
   "execution_count": null,
   "metadata": {},
   "outputs": [],
   "source": [
    "import os\n",
    "import _thread\n",
    "import re\n",
    "import sys\n",
    "import numpy as np\n",
    "from matplotlib import pyplot as plt\n",
    "\n",
    "import h5py\n",
    "import pickle\n",
    "import glob as glob\n",
    "\n",
    "from car_racing_ellipse import CarRacingEllipse\n",
    "from car_racing_square import CarRacingSquare\n",
    "from car_racing_zigzag import CarRacingZigZag\n",
    "from car_racing_cycle_tracks import CarRacingCycleTracks\n",
    "from car_racing_cycle_random_tracks import CarRacingCycleRandom\n",
    "\n",
    "from sklearn.tree import DecisionTreeClassifier\n",
    "from CarRacingKM import CarRacingKM\n",
    "\n",
    "from skimage import color, transform\n",
    "import itertools as it\n",
    "\n",
    "track_type = 'ZigZag'\n",
    "\n",
    "if track_type=='Square':\n",
    "    env = CarRacingSquare()\n",
    "elif track_type=='Ellipse':\n",
    "    env = CarRacingEllipse()\n",
    "elif track_type=='ZigZag':\n",
    "    env = CarRacingZigZag()\n",
    "elif track_type=='Cycle':\n",
    "    env = CarRacingCycleTracks()\n",
    "elif track_type=='Cycle Random':\n",
    "    env = CarRacingCycleRandom()\n",
    "\n",
    "model_folder = sorted(glob.glob(os.path.join(checkpoint_path,'Students','KM','*','')),key=os.path.getmtime)[-1]"
   ]
  }
 ]
}