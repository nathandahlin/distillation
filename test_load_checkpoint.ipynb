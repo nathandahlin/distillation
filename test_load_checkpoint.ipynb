{
 "metadata": {
  "language_info": {
   "codemirror_mode": {
    "name": "ipython",
    "version": 3
   },
   "file_extension": ".py",
   "mimetype": "text/x-python",
   "name": "python",
   "nbconvert_exporter": "python",
   "pygments_lexer": "ipython3",
   "version": "2.7.17"
  },
  "orig_nbformat": 2,
  "kernelspec": {
   "name": "car_racing_retry",
   "display_name": "car_racing_retry",
   "language": "python"
  }
 },
 "nbformat": 4,
 "nbformat_minor": 2,
 "cells": [
  {
   "cell_type": "code",
   "execution_count": 1,
   "metadata": {},
   "outputs": [
    {
     "output_type": "stream",
     "name": "stderr",
     "text": [
      "/home/dahlin/Desktop/Car Racing/car_racing_retry/lib/python3.6/site-packages/tensorflow/python/framework/dtypes.py:526: FutureWarning: Passing (type, 1) or '1type' as a synonym of type is deprecated; in a future version of numpy, it will be understood as (type, (1,)) / '(1,)type'.\n",
      "  _np_qint8 = np.dtype([(\"qint8\", np.int8, 1)])\n",
      "/home/dahlin/Desktop/Car Racing/car_racing_retry/lib/python3.6/site-packages/tensorflow/python/framework/dtypes.py:527: FutureWarning: Passing (type, 1) or '1type' as a synonym of type is deprecated; in a future version of numpy, it will be understood as (type, (1,)) / '(1,)type'.\n",
      "  _np_quint8 = np.dtype([(\"quint8\", np.uint8, 1)])\n",
      "/home/dahlin/Desktop/Car Racing/car_racing_retry/lib/python3.6/site-packages/tensorflow/python/framework/dtypes.py:528: FutureWarning: Passing (type, 1) or '1type' as a synonym of type is deprecated; in a future version of numpy, it will be understood as (type, (1,)) / '(1,)type'.\n",
      "  _np_qint16 = np.dtype([(\"qint16\", np.int16, 1)])\n",
      "/home/dahlin/Desktop/Car Racing/car_racing_retry/lib/python3.6/site-packages/tensorflow/python/framework/dtypes.py:529: FutureWarning: Passing (type, 1) or '1type' as a synonym of type is deprecated; in a future version of numpy, it will be understood as (type, (1,)) / '(1,)type'.\n",
      "  _np_quint16 = np.dtype([(\"quint16\", np.uint16, 1)])\n",
      "/home/dahlin/Desktop/Car Racing/car_racing_retry/lib/python3.6/site-packages/tensorflow/python/framework/dtypes.py:530: FutureWarning: Passing (type, 1) or '1type' as a synonym of type is deprecated; in a future version of numpy, it will be understood as (type, (1,)) / '(1,)type'.\n",
      "  _np_qint32 = np.dtype([(\"qint32\", np.int32, 1)])\n",
      "/home/dahlin/Desktop/Car Racing/car_racing_retry/lib/python3.6/site-packages/tensorflow/python/framework/dtypes.py:535: FutureWarning: Passing (type, 1) or '1type' as a synonym of type is deprecated; in a future version of numpy, it will be understood as (type, (1,)) / '(1,)type'.\n",
      "  np_resource = np.dtype([(\"resource\", np.ubyte, 1)])\n",
      "{'min_epsilon': 0.1, 'max_negative_rewards': 12, 'min_experience_size': 10000, 'num_frame_stack': 1, 'frame_skip': 3, 'train_freq': 4, 'batchsize': 64, 'epsilon_decay_steps': 100000, 'network_update_freq': 1000, 'experience_capacity': 40000, 'gamma': 0.95}\n",
      "0\n",
      "WARNING:tensorflow:From /home/dahlin/Desktop/Car Racing/car_racing_retry/lib/python3.6/site-packages/tensorflow/python/framework/op_def_library.py:263: colocate_with (from tensorflow.python.framework.ops) is deprecated and will be removed in a future version.\n",
      "Instructions for updating:\n",
      "Colocations handled automatically by placer.\n",
      "[2021-04-25 18:23:14,336] From /home/dahlin/Desktop/Car Racing/car_racing_retry/lib/python3.6/site-packages/tensorflow/python/framework/op_def_library.py:263: colocate_with (from tensorflow.python.framework.ops) is deprecated and will be removed in a future version.\n",
      "Instructions for updating:\n",
      "Colocations handled automatically by placer.\n",
      "WARNING:tensorflow:From /home/dahlin/Desktop/Car Racing/car_racing_retry/lib/python3.6/site-packages/tensorflow/contrib/layers/python/layers/layers.py:1624: flatten (from tensorflow.python.layers.core) is deprecated and will be removed in a future version.\n",
      "Instructions for updating:\n",
      "Use keras.layers.flatten instead.\n",
      "[2021-04-25 18:23:14,554] From /home/dahlin/Desktop/Car Racing/car_racing_retry/lib/python3.6/site-packages/tensorflow/contrib/layers/python/layers/layers.py:1624: flatten (from tensorflow.python.layers.core) is deprecated and will be removed in a future version.\n",
      "Instructions for updating:\n",
      "Use keras.layers.flatten instead.\n"
     ]
    }
   ],
   "source": [
    "from dqn.agent import CarRacingDQN\n",
    "import os\n",
    "import tensorflow as tf\n",
    "import gym\n",
    "import _thread\n",
    "import re\n",
    "import sys\n",
    "\n",
    "from car_racing_full_track import CarRacingFullTrack\n",
    "#from car_racing_zoom_out import CarRacingZoomOut\n",
    "\n",
    "import pickle\n",
    "\n",
    "# SETTINGS\n",
    "\n",
    "log_frames = False\n",
    "\n",
    "# to start training from scratch:\n",
    "load_checkpoint = True\n",
    "checkpoint_path = \"data/fixed_full_track\"\n",
    "train_episodes = float(\"inf\")\n",
    "#save_freq_episodes = 400\n",
    "save_freq_episodes = 100\n",
    "\n",
    "# To play from existing checkpoint without any training:\n",
    "# load_checkpoint = True\n",
    "# checkpoint_path = \"data/checkpoint01\"\n",
    "# train_episodes = 0 #or just give higher value to train the existing checkpoint more\n",
    "\n",
    "model_config = dict(\n",
    "    min_epsilon=0.1,\n",
    "    max_negative_rewards=12,\n",
    "    min_experience_size=int(1e4),\n",
    "    num_frame_stack=1,\n",
    "    frame_skip=3,\n",
    "    train_freq=4,\n",
    "    batchsize=64,\n",
    "    epsilon_decay_steps=int(1e5),\n",
    "    network_update_freq=int(1e3),\n",
    "    experience_capacity=int(4e4),\n",
    "    gamma=0.95\n",
    ")\n",
    "\n",
    "print(model_config)\n",
    "########\n",
    "\n",
    "#env_name = \"CarRacing-v0\"\n",
    "#env = gym.make(env_name)\n",
    "\n",
    "env = CarRacingFullTrack()\n",
    "#env = CarRacingZoomOut()\n",
    "\n",
    "# tf.reset_default_graph()\n",
    "dqn_agent = CarRacingDQN(env=env, **model_config)\n",
    "dqn_agent.build_graph()\n",
    "sess = tf.InteractiveSession()\n",
    "dqn_agent.session = sess\n",
    "\n",
    "saver = tf.train.Saver(max_to_keep=100)"
   ]
  },
  {
   "cell_type": "code",
   "execution_count": 2,
   "metadata": {},
   "outputs": [],
   "source": [
    "ckpt = tf.train.get_checkpoint_state(checkpoint_path)"
   ]
  },
  {
   "cell_type": "code",
   "execution_count": 3,
   "metadata": {},
   "outputs": [
    {
     "output_type": "execute_result",
     "data": {
      "text/plain": [
       "model_checkpoint_path: \"data/fixed_full_track/m.ckpt-288557\"\n",
       "all_model_checkpoint_paths: \"data/fixed_full_track/m.ckpt-288557\"\n",
       "all_model_checkpoint_paths: \"data/fixed_full_track/m.ckpt-294523\"\n",
       "all_model_checkpoint_paths: \"data/fixed_full_track/m.ckpt-299979\"\n",
       "all_model_checkpoint_paths: \"data/fixed_full_track/m.ckpt-305364\"\n",
       "all_model_checkpoint_paths: \"data/fixed_full_track/m.ckpt-310868\"\n",
       "all_model_checkpoint_paths: \"data/fixed_full_track/m.ckpt-316486\"\n",
       "all_model_checkpoint_paths: \"data/fixed_full_track/m.ckpt-321767\"\n",
       "all_model_checkpoint_paths: \"data/fixed_full_track/m.ckpt-327176\"\n",
       "all_model_checkpoint_paths: \"data/fixed_full_track/m.ckpt-332569\"\n",
       "all_model_checkpoint_paths: \"data/fixed_full_track/m.ckpt-338048\"\n",
       "all_model_checkpoint_paths: \"data/fixed_full_track/m.ckpt-343503\"\n",
       "all_model_checkpoint_paths: \"data/fixed_full_track/m.ckpt-348886\"\n",
       "all_model_checkpoint_paths: \"data/fixed_full_track/m.ckpt-354187\"\n",
       "all_model_checkpoint_paths: \"data/fixed_full_track/m.ckpt-359415\"\n",
       "all_model_checkpoint_paths: \"data/fixed_full_track/m.ckpt-364597\"\n",
       "all_model_checkpoint_paths: \"data/fixed_full_track/m.ckpt-369931\"\n",
       "all_model_checkpoint_paths: \"data/fixed_full_track/m.ckpt-375083\"\n",
       "all_model_checkpoint_paths: \"data/fixed_full_track/m.ckpt-380449\"\n",
       "all_model_checkpoint_paths: \"data/fixed_full_track/m.ckpt-385774\"\n",
       "all_model_checkpoint_paths: \"data/fixed_full_track/m.ckpt-391293\"\n",
       "all_model_checkpoint_paths: \"data/fixed_full_track/m.ckpt-396726\"\n",
       "all_model_checkpoint_paths: \"data/fixed_full_track/m.ckpt-402150\"\n",
       "all_model_checkpoint_paths: \"data/fixed_full_track/m.ckpt-407553\"\n",
       "all_model_checkpoint_paths: \"data/fixed_full_track/m.ckpt-412876\"\n",
       "all_model_checkpoint_paths: \"data/fixed_full_track/m.ckpt-418199\"\n",
       "all_model_checkpoint_paths: \"data/fixed_full_track/m.ckpt-423668\"\n",
       "all_model_checkpoint_paths: \"data/fixed_full_track/m.ckpt-429176\"\n",
       "all_model_checkpoint_paths: \"data/fixed_full_track/m.ckpt-434553\""
      ]
     },
     "metadata": {},
     "execution_count": 3
    }
   ],
   "source": [
    "ckpt"
   ]
  },
  {
   "cell_type": "code",
   "execution_count": 4,
   "metadata": {},
   "outputs": [],
   "source": [
    "global_counter = int(re.findall(\"-(\\d+)$\", ckpt.model_checkpoint_path)[0])"
   ]
  },
  {
   "cell_type": "code",
   "execution_count": 5,
   "metadata": {},
   "outputs": [
    {
     "output_type": "execute_result",
     "data": {
      "text/plain": [
       "288557"
      ]
     },
     "metadata": {},
     "execution_count": 5
    }
   ],
   "source": [
    "global_counter"
   ]
  },
  {
   "cell_type": "code",
   "execution_count": 6,
   "metadata": {},
   "outputs": [
    {
     "output_type": "execute_result",
     "data": {
      "text/plain": [
       "'data/fixed_full_track/m.ckpt-288557'"
      ]
     },
     "metadata": {},
     "execution_count": 6
    }
   ],
   "source": [
    "ckpt.model_checkpoint_path"
   ]
  },
  {
   "cell_type": "code",
   "execution_count": null,
   "metadata": {},
   "outputs": [],
   "source": []
  }
 ]
}