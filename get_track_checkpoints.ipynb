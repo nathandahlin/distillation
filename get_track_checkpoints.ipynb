{
 "metadata": {
  "language_info": {
   "codemirror_mode": {
    "name": "ipython",
    "version": 3
   },
   "file_extension": ".py",
   "mimetype": "text/x-python",
   "name": "python",
   "nbconvert_exporter": "python",
   "pygments_lexer": "ipython3",
   "version": "3.6.9"
  },
  "orig_nbformat": 2,
  "kernelspec": {
   "name": "car_racing_retry",
   "display_name": "car_racing_retry",
   "language": "python"
  },
  "metadata": {
   "interpreter": {
    "hash": "767d51c1340bd893661ea55ea3124f6de3c7a262a8b4abca0554b478b1e2ff90"
   }
  }
 },
 "nbformat": 4,
 "nbformat_minor": 2,
 "cells": [
  {
   "cell_type": "code",
   "execution_count": 4,
   "metadata": {},
   "outputs": [],
   "source": [
    "from dqn.agent import CarRacingDQN\n",
    "import os\n",
    "import tensorflow as tf\n",
    "import gym\n",
    "import _thread\n",
    "import re\n",
    "import sys\n",
    "\n",
    "from car_racing_ellipse import CarRacingEllipse\n",
    "from car_racing_square import CarRacingSquare\n",
    "from car_racing_zigzag import CarRacingZigZag\n",
    "from gym.envs.box2d.car_racing import CarRacing\n",
    "\n",
    "from gym.wrappers.monitoring import Monitor\n",
    "\n",
    "import pickle as pkl\n",
    "import h5py"
   ]
  },
  {
   "cell_type": "code",
   "execution_count": 11,
   "metadata": {},
   "outputs": [
    {
     "output_type": "stream",
     "name": "stdout",
     "text": [
      "Track generation: 1048..1314 -> 266-tiles track\n",
      "Track generation: 1174..1472 -> 298-tiles track\n",
      "True\n",
      "Track generation: 1185..1485 -> 300-tiles track\n",
      "True\n",
      "Track generation: 1139..1428 -> 289-tiles track\n",
      "True\n",
      "Track generation: 1171..1468 -> 297-tiles track\n",
      "True\n",
      "Track generation: 1195..1498 -> 303-tiles track\n",
      "True\n",
      "Track generation: 1220..1529 -> 309-tiles track\n",
      "True\n",
      "Track generation: 1102..1388 -> 286-tiles track\n",
      "True\n",
      "Track generation: 1188..1489 -> 301-tiles track\n",
      "True\n",
      "Track generation: 1015..1273 -> 258-tiles track\n",
      "True\n",
      "Track generation: 1152..1444 -> 292-tiles track\n",
      "True\n"
     ]
    }
   ],
   "source": [
    "env = CarRacing()\n",
    "env._reset()\n",
    "successes = 0\n",
    "for i in range(10):\n",
    "    success, checkpoints, start_alpha = env._create_track()\n",
    "    print(success)\n",
    "    if success:\n",
    "        successes +=1\n",
    "        with open('random_tracks/track_'+str(i)+'.pkl','wb') as f:\n",
    "            pkl.dump((checkpoints,start_alpha),f)"
   ]
  },
  {
   "cell_type": "code",
   "execution_count": 9,
   "metadata": {},
   "outputs": [
    {
     "output_type": "execute_result",
     "data": {
      "text/plain": [
       "10"
      ]
     },
     "metadata": {},
     "execution_count": 9
    }
   ],
   "source": [
    "successes"
   ]
  },
  {
   "cell_type": "code",
   "execution_count": 6,
   "metadata": {},
   "outputs": [
    {
     "output_type": "execute_result",
     "data": {
      "text/plain": [
       "True"
      ]
     },
     "metadata": {},
     "execution_count": 6
    }
   ],
   "source": []
  },
  {
   "cell_type": "code",
   "execution_count": 2,
   "metadata": {},
   "outputs": [
    {
     "output_type": "stream",
     "name": "stdout",
     "text": [
      "Track generation: 1420..1777 -> 357-tiles track\n",
      "Track generation: 1420..1777 -> 357-tiles track\n",
      "24\n",
      "Track generation: 1127..1503 -> 376-tiles track\n",
      "Track generation: 1127..1503 -> 376-tiles track\n",
      "4\n",
      "Track generation: 1340..1781 -> 441-tiles track\n",
      "Track generation: 1340..1781 -> 441-tiles track\n",
      "200\n"
     ]
    }
   ],
   "source": [
    "env = CarRacingEllipse()\n",
    "env._reset()\n",
    "success, checkpoints, start_alpha = env._create_track()\n",
    "with open('tracks/ellipse.pkl','wb') as f:\n",
    "    pkl.dump([checkpoints,start_alpha],f)\n",
    "    print(len(checkpoints))\n",
    "\n",
    "env = CarRacingSquare()\n",
    "env._reset()\n",
    "success, checkpoints, start_alpha = env._create_track()\n",
    "with open('tracks/square.pkl','wb') as f:\n",
    "    pkl.dump([checkpoints,start_alpha],f)\n",
    "    print(len(checkpoints))\n",
    "\n",
    "env = CarRacingZigZag()\n",
    "env._reset()\n",
    "success, checkpoints,start_alpha = env._create_track()\n",
    "with open('tracks/zigzag.pkl','wb') as f:\n",
    "    pkl.dump([checkpoints,start_alpha],f)\n",
    "    print(len(checkpoints))"
   ]
  },
  {
   "cell_type": "code",
   "execution_count": 3,
   "metadata": {},
   "outputs": [],
   "source": [
    "import glob as glob \n",
    "\n",
    "checkpoint_files = glob.glob('tracks/*.pkl')\n",
    "checkpoints = []\n",
    "start_alphas = []\n",
    "for checkpoint_file in checkpoint_files:\n",
    "    with open(checkpoint_file,'rb') as f:\n",
    "        chkpts, st_alpha = pkl.load(f)\n",
    "        checkpoints.append(chkpts)\n",
    "        start_alphas.append(st_alpha)"
   ]
  },
  {
   "cell_type": "code",
   "execution_count": 7,
   "metadata": {},
   "outputs": [
    {
     "output_type": "execute_result",
     "data": {
      "text/plain": [
       "[(0.0, 225.0, 0.0),\n",
       " (1.5707963267948966, 1.3777276490407723e-14, 225.0),\n",
       " (3.141592653589793, -225.0, 2.7554552980815446e-14),\n",
       " (4.71238898038469, -4.133182947122317e-14, -225.0)]"
      ]
     },
     "metadata": {},
     "execution_count": 7
    }
   ],
   "source": [
    "checkpoints[2]"
   ]
  },
  {
   "cell_type": "code",
   "execution_count": 13,
   "metadata": {},
   "outputs": [],
   "source": []
  },
  {
   "cell_type": "code",
   "execution_count": 12,
   "metadata": {},
   "outputs": [
    {
     "output_type": "execute_result",
     "data": {
      "text/plain": [
       "[(0, 225.0, 0.0),\n",
       " (0.2617993877991494, 211.88369195322278, 56.77406414819081),\n",
       " (0.5235987755982988, 178.29130853093884, 102.93653497450813),\n",
       " (0.7853981633974483, 135.00000000000003, 135.0),\n",
       " (1.0471975511965976, 89.40593410189048, 154.8556203626292),\n",
       " (1.3089969389957472, 44.33013464651285, 165.44231480715538),\n",
       " (1.5707963267948966, 1.0332957367805792e-14, 168.75),\n",
       " (1.832595714594046, -44.33013464651283, 165.44231480715538),\n",
       " (2.0943951023931953, -89.40593410189042, 154.85562036262922),\n",
       " (2.356194490192345, -135.0, 135.00000000000003),\n",
       " (2.6179938779914944, -178.29130853093884, 102.93653497450813),\n",
       " (2.8797932657906435, -211.88369195322275, 56.77406414819087),\n",
       " (3.141592653589793, -225.0, 2.7554552980815446e-14),\n",
       " (3.4033920413889427, -211.88369195322278, -56.77406414819082),\n",
       " (3.665191429188092, -178.2913085309389, -102.9365349745081),\n",
       " (3.926990816987241, -135.00000000000009, -134.99999999999994),\n",
       " (4.1887902047863905, -89.40593410189055, -154.85562036262917),\n",
       " (4.4505895925855405, -44.33013464651283, -165.44231480715538),\n",
       " (4.71238898038469, -3.0998872103417375e-14, -168.75),\n",
       " (4.974188368183839, 44.330134646512775, -165.44231480715538),\n",
       " (5.235987755982989, 89.40593410189048, -154.8556203626292),\n",
       " (5.497787143782138, 134.99999999999997, -135.00000000000003),\n",
       " (5.759586531581287, 178.29130853093875, -102.93653497450822),\n",
       " (6.021385919380436, 211.8836919532227, -56.77406414819098)]"
      ]
     },
     "metadata": {},
     "execution_count": 12
    }
   ],
   "source": [
    "checkpoints[0]"
   ]
  },
  {
   "cell_type": "code",
   "execution_count": null,
   "metadata": {},
   "outputs": [],
   "source": []
  }
 ]
}