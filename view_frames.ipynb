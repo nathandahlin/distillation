{
 "metadata": {
  "language_info": {
   "codemirror_mode": {
    "name": "ipython",
    "version": 3
   },
   "file_extension": ".py",
   "mimetype": "text/x-python",
   "name": "python",
   "nbconvert_exporter": "python",
   "pygments_lexer": "ipython3",
   "version": "2.7.17"
  },
  "orig_nbformat": 2,
  "kernelspec": {
   "name": "car_racing_retry",
   "display_name": "car_racing_retry",
   "language": "python"
  },
  "metadata": {
   "interpreter": {
    "hash": "767d51c1340bd893661ea55ea3124f6de3c7a262a8b4abca0554b478b1e2ff90"
   }
  }
 },
 "nbformat": 4,
 "nbformat_minor": 2,
 "cells": [
  {
   "cell_type": "code",
   "execution_count": 16,
   "metadata": {},
   "outputs": [
    {
     "output_type": "stream",
     "name": "stdout",
     "text": [
      "frames_out380340_ref_dqn\n"
     ]
    }
   ],
   "source": [
    "import pickle\n",
    "from matplotlib import pyplot as plt\n",
    "import glob\n",
    "import os\n",
    "import numpy as np\n",
    "\n",
    "def moving_average(x, w):\n",
    "    return np.convolve(x, np.ones(w), 'valid') / w\n",
    "\n",
    "\n",
    "p_files = sorted(glob.glob(\"*.p\"),key=os.path.getmtime)\n",
    "frames_file = p_files[-1]\n",
    "\n",
    "#frames_out = pickle.load( open(frames_file, \"rb\" ) )\n",
    "frames_out = pickle.load(open(\"frames_out380340_ref_dqn.p\",\"rb\"))\n",
    "frames_file[:-2]\n",
    "print(frames_file[:-2])\n",
    "\n",
    "directory = frames_file[:-2]\n",
    "\n",
    "if not os.path.exists(directory):\n",
    "    os.mkdir(directory)\n",
    "\n",
    "for i,frame in enumerate(frames_out):\n",
    "    plt.figure(dpi=400)\n",
    "    plt.imshow(frame)\n",
    "    plt.savefig(directory+\"/\"+str(i)+\".png\")\n",
    "    plt.close()"
   ]
  },
  {
   "cell_type": "code",
   "execution_count": null,
   "metadata": {},
   "outputs": [],
   "source": []
  }
 ]
}